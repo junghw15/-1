{
 "cells": [
  {
   "cell_type": "markdown",
   "id": "90db8cf2",
   "metadata": {},
   "source": [
    "### 프로그래머스 레벨 0"
   ]
  },
  {
   "cell_type": "markdown",
   "id": "c2c71f0d",
   "metadata": {},
   "source": [
    "문제1. 옹알이(1)"
   ]
  },
  {
   "cell_type": "code",
   "execution_count": 5,
   "id": "e413e7f0",
   "metadata": {},
   "outputs": [],
   "source": [
    "data=['aya','ye','woo','ma']"
   ]
  },
  {
   "cell_type": "code",
   "execution_count": 9,
   "id": "f454b09f",
   "metadata": {},
   "outputs": [],
   "source": [
    "def solution(babbling):\n",
    "\n",
    "    answer=0\n",
    "    data=['aya','ye','woo','ma']\n",
    "    \n",
    "    for i in babbling:\n",
    "        for j in range(4):\n",
    "            if i== data[j]+data[j]:\n",
    "                continue\n",
    "            if i in data[j]:                \n",
    "                answer+=1\n",
    "    \n",
    "    return answer"
   ]
  },
  {
   "cell_type": "code",
   "execution_count": 10,
   "id": "c4a3fa44",
   "metadata": {},
   "outputs": [],
   "source": [
    "#수정"
   ]
  },
  {
   "cell_type": "code",
   "execution_count": 16,
   "id": "44488855",
   "metadata": {},
   "outputs": [],
   "source": [
    "def solution(babbling):\n",
    "\n",
    "    answer=0\n",
    "    data=['aya','ye','woo','ma']\n",
    "    \n",
    "    for i in babbling:\n",
    "        for j in data:\n",
    "            if j+j in i:\n",
    "                break\n",
    "            else:\n",
    "                i=i.replace(j,\"\").strip()\n",
    "                \n",
    "        if i :\n",
    "            continue\n",
    "        else:\n",
    "            answer +=1\n",
    "\n",
    "    return answer"
   ]
  },
  {
   "cell_type": "code",
   "execution_count": 15,
   "id": "370aa621",
   "metadata": {
    "scrolled": true
   },
   "outputs": [
    {
     "name": "stdout",
     "output_type": "stream",
     "text": [
      "a\n"
     ]
    }
   ],
   "source": [
    "babbling=[\"ayaye\", \"uuuma\", \"ye\", \"yemawoo\", \"ayaa\"]\n",
    "\n",
    "for i in babbling:\n",
    "    for j in data:\n",
    "        i=i.replace(j,\"\").strip() # j부분을 공백으로 처리\n",
    "        \n",
    "print(i)"
   ]
  },
  {
   "cell_type": "code",
   "execution_count": null,
   "id": "47987372",
   "metadata": {},
   "outputs": [],
   "source": [
    "## 최종 답"
   ]
  },
  {
   "cell_type": "code",
   "execution_count": 17,
   "id": "ae1f360e",
   "metadata": {},
   "outputs": [],
   "source": [
    "def solution(babbling):\n",
    "\n",
    "    answer=0\n",
    "    data=['aya','ye','woo','ma']\n",
    "    \n",
    "    for i in babbling:\n",
    "        for j in data:\n",
    "            if j+j in i:\n",
    "                break\n",
    "            else:\n",
    "                i=i.replace(j,\" \").strip() #data에 있는 값일 경우 공백 대체\n",
    "                \n",
    "        if i.strip()=='': #남아있는 문자 없는 것일때마다 count\n",
    "            answer+=1\n",
    "            \n",
    "    return answer"
   ]
  },
  {
   "cell_type": "markdown",
   "id": "59b27988",
   "metadata": {},
   "source": [
    "좀 어려웠음, 여러번 시도하고 구글 검색해서 성공함 "
   ]
  },
  {
   "cell_type": "markdown",
   "id": "7dd5f405",
   "metadata": {},
   "source": [
    "문제2. 다음에 올 숫자"
   ]
  },
  {
   "cell_type": "code",
   "execution_count": 18,
   "id": "1bac43fd",
   "metadata": {},
   "outputs": [],
   "source": [
    "def solution(common):\n",
    "    answer = 0\n",
    "    \n",
    "    for i in range(len(common)):\n",
    "        \n",
    "        #등차수열일 경우\n",
    "        if common[2]-common[1]==common[1]-common[0]:\n",
    "            n=common[1]-common[0]\n",
    "            answer=common[len(common)-1]+n\n",
    "        \n",
    "        else:\n",
    "            n=common[1]/common[0]\n",
    "            answer=common[len(common)-1]*n\n",
    "         \n",
    "    return answer"
   ]
  },
  {
   "cell_type": "markdown",
   "id": "e96eb79f",
   "metadata": {},
   "source": [
    "한번에 성공함"
   ]
  },
  {
   "cell_type": "code",
   "execution_count": null,
   "id": "e1e350ce",
   "metadata": {},
   "outputs": [],
   "source": []
  },
  {
   "cell_type": "code",
   "execution_count": 20,
   "id": "a36a2e9d",
   "metadata": {},
   "outputs": [
    {
     "name": "stdout",
     "output_type": "stream",
     "text": [
      "-1\n",
      "0\n"
     ]
    }
   ],
   "source": [
    "for i in range(-1,1):\n",
    "    print(i)"
   ]
  },
  {
   "cell_type": "code",
   "execution_count": 30,
   "id": "cea20e12",
   "metadata": {},
   "outputs": [
    {
     "name": "stdout",
     "output_type": "stream",
     "text": [
      "[-10, -9, -8, -7, -6, -5, -4, -3, -2, -1, 0, 1, 2, 3, 4, 5, 6, 7, 8, 9]\n"
     ]
    }
   ],
   "source": [
    "test=list(range(-10,10))\n",
    "print(test)"
   ]
  },
  {
   "cell_type": "code",
   "execution_count": null,
   "id": "d5f8cd10",
   "metadata": {},
   "outputs": [],
   "source": []
  },
  {
   "cell_type": "markdown",
   "id": "ffede233",
   "metadata": {},
   "source": [
    "문제3. 연속된 수의 합"
   ]
  },
  {
   "cell_type": "code",
   "execution_count": 31,
   "id": "0f58d2d5",
   "metadata": {},
   "outputs": [],
   "source": [
    "def solution(num, total):\n",
    "    \n",
    "    answer=[]\n",
    "    data=list(range(-100,100))\n",
    "    \n",
    "    for n in range(0,len(data)-num):\n",
    "        \n",
    "        if sum(data[n:n+num])==total:\n",
    "            answer.append[data[n:n+num]]\n",
    "\n",
    "    return answer[0]"
   ]
  },
  {
   "cell_type": "markdown",
   "id": "0353ca32",
   "metadata": {},
   "source": [
    "위와같이 구현하였을 때, 테스트 케이스 10개중 1개가 런타임 에러 나옴"
   ]
  },
  {
   "cell_type": "code",
   "execution_count": 39,
   "id": "fd6600fc",
   "metadata": {},
   "outputs": [],
   "source": [
    "#이진탐색으로 수정"
   ]
  },
  {
   "cell_type": "code",
   "execution_count": 40,
   "id": "ee2a9dcc",
   "metadata": {},
   "outputs": [],
   "source": [
    "def solution(num, total):\n",
    "    \n",
    "    answer=[]\n",
    "    average=total//num\n",
    "    \n",
    "    return [i for i in range(average - (num-1)//2, average+(num+2)//2)]\n",
    "    "
   ]
  },
  {
   "cell_type": "markdown",
   "id": "ae366868",
   "metadata": {},
   "source": [
    "문제 4. 종이 자르기"
   ]
  },
  {
   "cell_type": "code",
   "execution_count": 42,
   "id": "9c0c9f8c",
   "metadata": {},
   "outputs": [],
   "source": [
    "def solution(M, N):\n",
    "    answer = 0\n",
    "    \n",
    "    answer=M*N-1\n",
    "    \n",
    "    return answer"
   ]
  },
  {
   "cell_type": "markdown",
   "id": "7cfd992f",
   "metadata": {},
   "source": [
    "규칙 찾고 식 쓰니까 바로 성공했음"
   ]
  },
  {
   "cell_type": "markdown",
   "id": "91063198",
   "metadata": {},
   "source": [
    "문제 5. 문자열 밀기"
   ]
  },
  {
   "cell_type": "code",
   "execution_count": 45,
   "id": "c51e572c",
   "metadata": {},
   "outputs": [],
   "source": [
    "def solution(A, B):\n",
    "    \n",
    "    answer = 0\n",
    "    data=list(A)\n",
    "    \n",
    "    for i in range(len(data)):\n",
    "        if \"\".join(data)==B :\n",
    "            return answer\n",
    "        \n",
    "        else:\n",
    "            data.insert(0,data.pop()) #data의 마지막 문자부터 앞으로\n",
    "            answer+=1\n",
    "            \n",
    "    return -1    \n",
    "     "
   ]
  },
  {
   "cell_type": "markdown",
   "id": "f38c824b",
   "metadata": {},
   "source": [
    "어려웠음, insert(0,data.pop()) 이게 핵심"
   ]
  },
  {
   "cell_type": "code",
   "execution_count": 44,
   "id": "25c05aa1",
   "metadata": {},
   "outputs": [
    {
     "name": "stdout",
     "output_type": "stream",
     "text": [
      "['o', 'l', 'l']\n"
     ]
    }
   ],
   "source": [
    "text=['l','l','o']\n",
    "\n",
    "text.insert(0,text.pop())\n",
    "print(text)"
   ]
  },
  {
   "cell_type": "code",
   "execution_count": null,
   "id": "e953ca01",
   "metadata": {},
   "outputs": [],
   "source": []
  },
  {
   "cell_type": "markdown",
   "id": "51f57f1d",
   "metadata": {},
   "source": [
    "문제 6. 잘라서 배열로 저장하기"
   ]
  },
  {
   "cell_type": "code",
   "execution_count": 1,
   "id": "8d077582",
   "metadata": {},
   "outputs": [
    {
     "name": "stdout",
     "output_type": "stream",
     "text": [
      "16\n"
     ]
    }
   ],
   "source": [
    "my_str=\"abc1Addfggg4556b\"\n",
    "a=list(my_str)\n",
    "print(len(a))"
   ]
  },
  {
   "cell_type": "code",
   "execution_count": 7,
   "id": "3f201670",
   "metadata": {},
   "outputs": [
    {
     "name": "stdout",
     "output_type": "stream",
     "text": [
      "['abc1Ad', 'dfggg4', '556b']\n"
     ]
    }
   ],
   "source": [
    "my_str=\"abc1Addfggg4556b\"\n",
    "n=6\n",
    "a=list(my_str)\n",
    "data=[]\n",
    "i=0\n",
    "\n",
    "if len(a)%n==0:\n",
    "    while i+n<=len(a):\n",
    "        data.append(\"\".join(a[i:i+n]))\n",
    "        i=i+n\n",
    "\n",
    "else:\n",
    "    while i+n<len(a):\n",
    "        data.append(\"\".join(a[i:i+n]))\n",
    "        i=i+n\n",
    "    data.append(\"\".join(a[i:]))\n",
    "    \n",
    "print(data)"
   ]
  },
  {
   "cell_type": "code",
   "execution_count": 9,
   "id": "3d2695b0",
   "metadata": {},
   "outputs": [],
   "source": [
    "#최종 답안\n",
    "def solution(my_str,n):\n",
    "    answer=[]\n",
    "    a=list(my_str)\n",
    "    \n",
    "    i=0\n",
    "    if len(a)%n==0:\n",
    "        while i+n<=len(a):\n",
    "            answer.append(\"\".join(a[i:i+n]))\n",
    "            i+=n\n",
    "    else:\n",
    "        while i+n<len(a):\n",
    "            answer.append(\"\".join(a[i:i+n]))\n",
    "            i+=n\n",
    "        answer.append(\"\".join(a[i:]))\n",
    "    \n",
    "    return answer"
   ]
  },
  {
   "cell_type": "markdown",
   "id": "dbaa569e",
   "metadata": {},
   "source": [
    "몇번 시도하고 정답 성공함. 난이도 중"
   ]
  },
  {
   "cell_type": "code",
   "execution_count": null,
   "id": "406ada92",
   "metadata": {},
   "outputs": [],
   "source": []
  },
  {
   "cell_type": "markdown",
   "id": "f2fcef42",
   "metadata": {},
   "source": [
    "문제 7. 7의 개수"
   ]
  },
  {
   "cell_type": "code",
   "execution_count": 19,
   "id": "24a47861",
   "metadata": {},
   "outputs": [],
   "source": [
    "#최종\n",
    "def solution(array):\n",
    "    answer = 0\n",
    "    \n",
    "    array=list(map(str,array))\n",
    "    for i in range(len(array)):\n",
    "        if '7' in array[i]:\n",
    "            answer+=array[i].count('7')\n",
    "    \n",
    "    return answer"
   ]
  },
  {
   "cell_type": "code",
   "execution_count": 20,
   "id": "1a4e2547",
   "metadata": {},
   "outputs": [
    {
     "name": "stdout",
     "output_type": "stream",
     "text": [
      "4\n"
     ]
    }
   ],
   "source": [
    "array=[7,77,17]\n",
    "array=list(map(str,array))\n",
    "answer=0\n",
    "\n",
    "for i in range(len(array)):\n",
    "    if '7' in array[i]:\n",
    "        answer=answer+(array[i].count('7'))\n",
    "\n",
    "print(answer)"
   ]
  },
  {
   "cell_type": "code",
   "execution_count": null,
   "id": "a24f6790",
   "metadata": {},
   "outputs": [],
   "source": []
  },
  {
   "cell_type": "markdown",
   "id": "1a05a450",
   "metadata": {},
   "source": [
    "문제 8. 문자열 정렬하기(2)"
   ]
  },
  {
   "cell_type": "code",
   "execution_count": 30,
   "id": "a8a676a4",
   "metadata": {},
   "outputs": [],
   "source": [
    "#최종\n",
    "def solution(my_string):\n",
    "    answer = my_string\n",
    "    \n",
    "    a=answer.lower()\n",
    "    a=list(a)\n",
    "    a.sort()\n",
    "    answer=\"\".join(a)\n",
    "    \n",
    "    return answer"
   ]
  },
  {
   "cell_type": "code",
   "execution_count": 31,
   "id": "fdfe22b6",
   "metadata": {},
   "outputs": [
    {
     "name": "stdout",
     "output_type": "stream",
     "text": [
      "abcd\n"
     ]
    }
   ],
   "source": [
    "a='Bcad'\n",
    "a=a.lower()\n",
    "a=list(a)\n",
    "a.sort()\n",
    "print(\"\".join(a))"
   ]
  },
  {
   "cell_type": "code",
   "execution_count": null,
   "id": "61977ecb",
   "metadata": {},
   "outputs": [],
   "source": []
  },
  {
   "cell_type": "markdown",
   "id": "d2a5bfb8",
   "metadata": {},
   "source": [
    "문제 9. 세균 증식"
   ]
  },
  {
   "cell_type": "code",
   "execution_count": 33,
   "id": "0b6d695c",
   "metadata": {},
   "outputs": [],
   "source": [
    "def solution(n, t):\n",
    "    answer = 0\n",
    "    answer=(n)*(2**t)\n",
    "    \n",
    "    return answer"
   ]
  },
  {
   "cell_type": "code",
   "execution_count": null,
   "id": "c773ef87",
   "metadata": {},
   "outputs": [],
   "source": []
  },
  {
   "cell_type": "markdown",
   "id": "dfac8aac",
   "metadata": {},
   "source": [
    "문제 10. 제곱수 판별하기"
   ]
  },
  {
   "cell_type": "code",
   "execution_count": 42,
   "id": "411d3181",
   "metadata": {},
   "outputs": [
    {
     "data": {
      "text/plain": [
       "True"
      ]
     },
     "execution_count": 42,
     "metadata": {},
     "output_type": "execute_result"
    }
   ],
   "source": [
    "a=2\n",
    "type(a)==int"
   ]
  },
  {
   "cell_type": "code",
   "execution_count": 44,
   "id": "fab2cfa1",
   "metadata": {},
   "outputs": [
    {
     "data": {
      "text/plain": [
       "float"
      ]
     },
     "execution_count": 44,
     "metadata": {},
     "output_type": "execute_result"
    }
   ],
   "source": [
    "b=1.2\n",
    "type(b)"
   ]
  },
  {
   "cell_type": "code",
   "execution_count": 52,
   "id": "f817cd36",
   "metadata": {},
   "outputs": [],
   "source": [
    "#최종\n",
    "def solution(n):\n",
    "    answer = 0\n",
    "    \n",
    "    n=n**(1/2)\n",
    "    \n",
    "    if n==int(n): # 타입은 float인데 정수일 수 있으므로, 정수취했을 때 같은지 확인\n",
    "        answer=1\n",
    "    else:\n",
    "        answer=2\n",
    "    \n",
    "    return answer"
   ]
  },
  {
   "cell_type": "code",
   "execution_count": 51,
   "id": "a4663867",
   "metadata": {},
   "outputs": [],
   "source": [
    "n=144\n",
    "n=n**(1/2)"
   ]
  },
  {
   "cell_type": "code",
   "execution_count": null,
   "id": "1749ae97",
   "metadata": {},
   "outputs": [],
   "source": []
  }
 ],
 "metadata": {
  "kernelspec": {
   "display_name": "Python 3 (ipykernel)",
   "language": "python",
   "name": "python3"
  },
  "language_info": {
   "codemirror_mode": {
    "name": "ipython",
    "version": 3
   },
   "file_extension": ".py",
   "mimetype": "text/x-python",
   "name": "python",
   "nbconvert_exporter": "python",
   "pygments_lexer": "ipython3",
   "version": "3.9.13"
  }
 },
 "nbformat": 4,
 "nbformat_minor": 5
}
