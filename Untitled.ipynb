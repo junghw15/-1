{
 "cells": [
  {
   "cell_type": "code",
   "execution_count": null,
   "id": "d64ca6ab",
   "metadata": {
    "scrolled": true
   },
   "outputs": [],
   "source": [
    "my_str=\"abc1Addfggg4556b\"\n",
    "a=list(my_str)\n",
    "print(len(a))"
   ]
  },
  {
   "cell_type": "code",
   "execution_count": null,
   "id": "acb31b04",
   "metadata": {},
   "outputs": [],
   "source": [
    "my_str=\"abc1Addfggg4556b\"\n",
    "n=6\n",
    "\n",
    "a=list(my_str)\n",
    "data=[]\n",
    "i=0\n",
    "\n",
    "while i !=len(a):\n",
    "    \n",
    "    if i<=len(a):\n",
    "        data.append(a[i:i+n])\n",
    "        i=i+n\n",
    "    \n",
    "    else:\n",
    "        data.append(a[i:len(a)])\n",
    "    \n",
    "print(data)"
   ]
  },
  {
   "cell_type": "code",
   "execution_count": null,
   "id": "e833bc08",
   "metadata": {},
   "outputs": [],
   "source": []
  }
 ],
 "metadata": {
  "kernelspec": {
   "display_name": "Python 3 (ipykernel)",
   "language": "python",
   "name": "python3"
  },
  "language_info": {
   "codemirror_mode": {
    "name": "ipython",
    "version": 3
   },
   "file_extension": ".py",
   "mimetype": "text/x-python",
   "name": "python",
   "nbconvert_exporter": "python",
   "pygments_lexer": "ipython3",
   "version": "3.9.13"
  }
 },
 "nbformat": 4,
 "nbformat_minor": 5
}
